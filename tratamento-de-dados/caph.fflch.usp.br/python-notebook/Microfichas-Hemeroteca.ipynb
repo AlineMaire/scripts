{
 "cells": [
  {
   "cell_type": "code",
   "execution_count": 4,
   "metadata": {},
   "outputs": [
    {
     "name": "stdout",
     "output_type": "stream",
     "text": [
      "Quantidades de linhas no df1: 4891\n",
      "Quantidades de linhas no df2: 35752\n"
     ]
    }
   ],
   "source": [
    "# Leitura do arquivo csv\n",
    "import pandas as pd\n",
    "import numpy as np\n",
    "\n",
    "df1 = pd.read_csv(\"../data/TabelaCatalogo49.csv\")\n",
    "df2 = pd.read_csv(\"../data/TabelaGeralBd.csv\")\n",
    "print(\"Quantidades de linhas no df1:\",len(df1))\n",
    "print(\"Quantidades de linhas no df2:\",len(df2))"
   ]
  },
  {
   "cell_type": "code",
   "execution_count": 5,
   "metadata": {},
   "outputs": [
    {
     "name": "stdout",
     "output_type": "stream",
     "text": [
      "Colunas df1: ['especificação', 'Legendadoslide', 'nreferencia', 'numero', 'região', 'local', 'titulo', 'data', 'tempo', 'quantidade', 'produção', 'rolonum', 'Bobina', 'suporte', 'NúmerodoFilme', 'País', 'Gênero', 'Idioma Original', 'Legenda', 'Versão', 'Sistema', 'Imagem', 'Direção', 'Roteiro', 'Fotografia', 'Música', 'Elenco', 'Premiações']\n",
      "Colunas df2: ['LIGAÇÃO', 'ALUNO (A)', 'TEMA:', 'GRAU:', 'ORIENTADOR:', 'DEPTO:', 'ÁREA:', 'DATA DE DEFESA:', 'pp', 'Volumes', 'Nº DE TOMBO', 'Revisado', 'Obs:', 'Encadernação', 'Microficha:', 'Produção da FFLCH:', 'número', 'COPIA', 'Microfilme', 'especificação', 'Legendadoslide', 'nreferencia', 'numero', 'região', 'local', 'titulo', 'data', 'tempo', 'quantidade', 'produção', 'Nº do Rolo', 'Bobina', 'suporte', 'NúmerodoFilme', 'País', 'Gênero', 'Idioma Original', 'Legenda', 'Versão', 'Sistema', 'Imagem', 'Direção', 'Roteiro', 'Fotografia', 'Música', 'Elenco', 'Premiações']\n"
     ]
    }
   ],
   "source": [
    "print(\"Colunas df1:\", df1.columns.values.tolist())\n",
    "\n",
    "print(\"Colunas df2:\", df2.columns.values.tolist())"
   ]
  },
  {
   "cell_type": "code",
   "execution_count": 6,
   "metadata": {},
   "outputs": [
    {
     "name": "stdout",
     "output_type": "stream",
     "text": [
      "Suportes na df1: 24 ['Diafilmes' 'Fitas de Rolo' 'Fitas Cassete' 'Vídeo Comercial'\n",
      " 'Filme 16mm' 'Vídeo Institucional' 'Microfilmes' 'Papel' 'Fotografias'\n",
      " 'Diapositivo (Slides)' 'Projeto Memória' 'Microfichas'\n",
      " 'Papel Fotográfico' 'Negativo em Vidro' 'Disquete' 'CD-Rom'\n",
      " 'Negativo Fotográfico' 'video institucional' 'Vídeo Instiutcional' 'DVD'\n",
      " 'Vídeo Terceiros' 'Hemeroteca' 'Fotografia em Vidro' nan]\n",
      "### ### ###\n",
      "Suportes na df2: 25 ['Filme 16mm' 'Diafilmes' 'Fitas de Rolo' 'Fitas Cassete'\n",
      " 'Vídeo Comercial' 'Vídeo Institucional' 'Microfilmes' 'Tese'\n",
      " 'Microfichas' 'Fotografias' 'Diapositivo (Slides)' 'Negativo Fotográfico'\n",
      " 'Hemeroteca' 'Papel' 'Projeto Memória' 'Papel Fotográfico'\n",
      " 'Fotografia em Vidro' 'Negativo em Vidro' 'CD-Rom' 'Disquete' nan '.'\n",
      " 'tese' 'diapositivo' 'slides']\n"
     ]
    }
   ],
   "source": [
    "print(\"Suportes na df1:\",len(df1.suporte.unique()),df1.suporte.unique())\n",
    "print(\"### ### ###\")\n",
    "print(\"Suportes na df2:\",len(df2.suporte.unique()),df2.suporte.unique())"
   ]
  },
  {
   "cell_type": "code",
   "execution_count": 7,
   "metadata": {},
   "outputs": [
    {
     "name": "stdout",
     "output_type": "stream",
     "text": [
      "Suportes que não são comuns:  {'diapositivo', 'slides', 'DVD', 'Tese', 'tese', 'Vídeo Instiutcional', 'Vídeo Terceiros', 'video institucional', '.'}\n"
     ]
    }
   ],
   "source": [
    "print(\"Suportes que não são comuns: \",set(df1.suporte.unique()) ^ set(df2.suporte.unique()))"
   ]
  },
  {
   "cell_type": "code",
   "execution_count": 8,
   "metadata": {},
   "outputs": [
    {
     "name": "stdout",
     "output_type": "stream",
     "text": [
      "Quantidade de itens por suporte df1                        size\n",
      "suporte                   \n",
      "Microfilmes           1494\n",
      "Fitas Cassete          752\n",
      "Diapositivo (Slides)   594\n",
      "Vídeo Comercial        482\n",
      "Microfichas            319\n",
      "Hemeroteca             281\n",
      "Vídeo Institucional    226\n",
      "Fotografias            211\n",
      "Papel                  138\n",
      "Fitas de Rolo          113\n",
      "Negativo Fotográfico    75\n",
      "CD-Rom                  56\n",
      "Filme 16mm              43\n",
      "Projeto Memória         41\n",
      "Diafilmes               19\n",
      "Papel Fotográfico       16\n",
      "Vídeo Terceiros         13\n",
      "Vídeo Instiutcional      6\n",
      "DVD                      5\n",
      "Fotografia em Vidro      1\n",
      "Negativo em Vidro        1\n",
      "Disquete                 1\n",
      "video institucional      1\n"
     ]
    }
   ],
   "source": [
    "quantidades_por_suportedf1 = df1.groupby('suporte')['suporte'].agg([np.size])\n",
    "quantidades_por_suportedf1.sort_values(['size'],ascending=False,inplace=True)\n",
    "print(\"Quantidade de itens por suporte df1 \",quantidades_por_suportedf1)"
   ]
  },
  {
   "cell_type": "code",
   "execution_count": 9,
   "metadata": {},
   "outputs": [
    {
     "name": "stdout",
     "output_type": "stream",
     "text": [
      "Quantidade de itens por suporte df2                         size\n",
      "suporte                    \n",
      "Diapositivo (Slides)  24325\n",
      "Tese                   7500\n",
      "Microfilmes            1494\n",
      "Fitas Cassete           689\n",
      "Vídeo Comercial         331\n",
      "Microfichas             319\n",
      "Hemeroteca              282\n",
      "Fotografias             209\n",
      "Vídeo Institucional     161\n",
      "Papel                   128\n",
      "Fitas de Rolo           113\n",
      "Negativo Fotográfico     68\n",
      "Filme 16mm               43\n",
      "Projeto Memória          39\n",
      "Diafilmes                19\n",
      "Papel Fotográfico        16\n",
      "CD-Rom                    6\n",
      "slides                    1\n",
      "diapositivo               1\n",
      ".                         1\n",
      "Negativo em Vidro         1\n",
      "Fotografia em Vidro       1\n",
      "Disquete                  1\n",
      "tese                      1\n"
     ]
    }
   ],
   "source": [
    "quantidades_por_suportedf2 = df2.groupby('suporte')['suporte'].agg([np.size])\n",
    "quantidades_por_suportedf2.sort_values(['size'],ascending=False,inplace=True)\n",
    "print(\"Quantidade de itens por suporte df2 \",quantidades_por_suportedf2)"
   ]
  },
  {
   "cell_type": "markdown",
   "metadata": {},
   "source": []
  },
  {
   "cell_type": "code",
   "execution_count": 10,
   "metadata": {},
   "outputs": [],
   "source": [
    "Microfichas = df2[df2.suporte == 'Microfichas']\n",
    "Microfichas.to_csv('/tmp/Microfichas.csv') "
   ]
  },
  {
   "cell_type": "code",
   "execution_count": 12,
   "metadata": {},
   "outputs": [],
   "source": [
    "Projeto  = df1[df1.suporte == 'Hemeroteca']\n",
    "Projeto.to_csv('/tmp/Hemeroteca.csv') "
   ]
  },
  {
   "cell_type": "code",
   "execution_count": null,
   "metadata": {},
   "outputs": [],
   "source": []
  },
  {
   "cell_type": "code",
   "execution_count": null,
   "metadata": {},
   "outputs": [],
   "source": []
  }
 ],
 "metadata": {
  "kernelspec": {
   "display_name": "Python 3",
   "language": "python",
   "name": "python3"
  },
  "language_info": {
   "codemirror_mode": {
    "name": "ipython",
    "version": 3
   },
   "file_extension": ".py",
   "mimetype": "text/x-python",
   "name": "python",
   "nbconvert_exporter": "python",
   "pygments_lexer": "ipython3",
   "version": "3.7.3"
  }
 },
 "nbformat": 4,
 "nbformat_minor": 2
}
