{
 "cells": [
  {
   "cell_type": "code",
   "execution_count": 6,
   "metadata": {},
   "outputs": [
    {
     "name": "stdout",
     "output_type": "stream",
     "text": [
      "Quantidades de linhas no df1: 4891\n",
      "Quantidades de linhas no df2: 35752\n"
     ]
    }
   ],
   "source": [
    "# Leitura do arquivo csv\n",
    "import pandas as pd\n",
    "import numpy as np\n",
    "\n",
    "df1 = pd.read_csv(\"../data/TabelaCatalogo49.csv\")\n",
    "df2 = pd.read_csv(\"../data/TabelaGeralBd.csv\")\n",
    "print(\"Quantidades de linhas no df1:\",len(df1))\n",
    "print(\"Quantidades de linhas no df2:\",len(df2))"
   ]
  },
  {
   "cell_type": "code",
   "execution_count": 8,
   "metadata": {},
   "outputs": [
    {
     "name": "stdout",
     "output_type": "stream",
     "text": [
      "Colunas df1: ['especificação', 'Legendadoslide', 'nreferencia', 'numero', 'região', 'local', 'titulo', 'data', 'tempo', 'quantidade', 'produção', 'rolonum', 'Bobina', 'suporte', 'NúmerodoFilme', 'País', 'Gênero', 'Idioma Original', 'Legenda', 'Versão', 'Sistema', 'Imagem', 'Direção', 'Roteiro', 'Fotografia', 'Música', 'Elenco', 'Premiações']\n",
      "Colunas df2: ['LIGAÇÃO', 'ALUNO (A)', 'TEMA:', 'GRAU:', 'ORIENTADOR:', 'DEPTO:', 'ÁREA:', 'DATA DE DEFESA:', 'pp', 'Volumes', 'Nº DE TOMBO', 'Revisado', 'Obs:', 'Encadernação', 'Microficha:', 'Produção da FFLCH:', 'número', 'COPIA', 'Microfilme', 'especificação', 'Legendadoslide', 'nreferencia', 'numero', 'região', 'local', 'titulo', 'data', 'tempo', 'quantidade', 'produção', 'Nº do Rolo', 'Bobina', 'suporte', 'NúmerodoFilme', 'País', 'Gênero', 'Idioma Original', 'Legenda', 'Versão', 'Sistema', 'Imagem', 'Direção', 'Roteiro', 'Fotografia', 'Música', 'Elenco', 'Premiações']\n"
     ]
    }
   ],
   "source": [
    "print(\"Colunas df1:\", df1.columns.values.tolist())\n",
    "\n",
    "print(\"Colunas df2:\", df2.columns.values.tolist())"
   ]
  },
  {
   "cell_type": "code",
   "execution_count": 39,
   "metadata": {},
   "outputs": [
    {
     "name": "stdout",
     "output_type": "stream",
     "text": [
      "Suportes na df1: 24 ['Diafilmes' 'Fitas de Rolo' 'Fitas Cassete' 'Vídeo Comercial'\n",
      " 'Filme 16mm' 'Vídeo Institucional' 'Microfilmes' 'Papel' 'Fotografias'\n",
      " 'Diapositivo (Slides)' 'Projeto Memória' 'Microfichas'\n",
      " 'Papel Fotográfico' 'Negativo em Vidro' 'Disquete' 'CD-Rom'\n",
      " 'Negativo Fotográfico' 'video institucional' 'Vídeo Instiutcional' 'DVD'\n",
      " 'Vídeo Terceiros' 'Hemeroteca' 'Fotografia em Vidro' nan]\n",
      "### ### ###\n",
      "Suportes na df2: 25 ['Filme 16mm' 'Diafilmes' 'Fitas de Rolo' 'Fitas Cassete'\n",
      " 'Vídeo Comercial' 'Vídeo Institucional' 'Microfilmes' 'Tese'\n",
      " 'Microfichas' 'Fotografias' 'Diapositivo (Slides)' 'Negativo Fotográfico'\n",
      " 'Hemeroteca' 'Papel' 'Projeto Memória' 'Papel Fotográfico'\n",
      " 'Fotografia em Vidro' 'Negativo em Vidro' 'CD-Rom' 'Disquete' nan '.'\n",
      " 'tese' 'diapositivo' 'slides']\n"
     ]
    },
    {
     "data": {
      "text/plain": [
       "{'.',\n",
       " 'DVD',\n",
       " 'Tese',\n",
       " 'Vídeo Instiutcional',\n",
       " 'Vídeo Terceiros',\n",
       " 'diapositivo',\n",
       " 'slides',\n",
       " 'tese',\n",
       " 'video institucional'}"
      ]
     },
     "execution_count": 39,
     "metadata": {},
     "output_type": "execute_result"
    }
   ],
   "source": [
    "print(\"Suportes na df1:\",len(df1.suporte.unique()),df1.suporte.unique())\n",
    "print(\"### ### ###\")\n",
    "print(\"Suportes na df2:\",len(df2.suporte.unique()),df2.suporte.unique())"
   ]
  },
  {
   "cell_type": "code",
   "execution_count": 42,
   "metadata": {},
   "outputs": [
    {
     "name": "stdout",
     "output_type": "stream",
     "text": [
      "Suportes que não são comuns:  {'.', 'Vídeo Terceiros', 'diapositivo', 'video institucional', 'Vídeo Instiutcional', 'tese', 'DVD', 'slides', 'Tese'}\n"
     ]
    }
   ],
   "source": [
    "print(\"Suportes que não são comuns: \",set(df1.suporte.unique()) ^ set(df2.suporte.unique()))"
   ]
  },
  {
   "cell_type": "code",
   "execution_count": 57,
   "metadata": {},
   "outputs": [
    {
     "name": "stdout",
     "output_type": "stream",
     "text": [
      "Quantidade de itens por suporte df1                        size\n",
      "suporte                   \n",
      "Microfilmes           1494\n",
      "Fitas Cassete          752\n",
      "Diapositivo (Slides)   594\n",
      "Vídeo Comercial        482\n",
      "Microfichas            319\n",
      "Hemeroteca             281\n",
      "Vídeo Institucional    226\n",
      "Fotografias            211\n",
      "Papel                  138\n",
      "Fitas de Rolo          113\n",
      "Negativo Fotográfico    75\n",
      "CD-Rom                  56\n",
      "Filme 16mm              43\n",
      "Projeto Memória         41\n",
      "Diafilmes               19\n",
      "Papel Fotográfico       16\n",
      "Vídeo Terceiros         13\n",
      "Vídeo Instiutcional      6\n",
      "DVD                      5\n",
      "Fotografia em Vidro      1\n",
      "Negativo em Vidro        1\n",
      "Disquete                 1\n",
      "video institucional      1\n"
     ]
    }
   ],
   "source": [
    "quantidades_por_suportedf1 = df1.groupby('suporte')['suporte'].agg([np.size])\n",
    "quantidades_por_suportedf1.sort_values(['size'],ascending=False,inplace=True)\n",
    "print(\"Quantidade de itens por suporte df1 \",quantidades_por_suportedf1)"
   ]
  },
  {
   "cell_type": "code",
   "execution_count": 60,
   "metadata": {},
   "outputs": [
    {
     "name": "stdout",
     "output_type": "stream",
     "text": [
      "Quantidade de itens por suporte df2                         size\n",
      "suporte                    \n",
      "Diapositivo (Slides)  24325\n",
      "Tese                   7500\n",
      "Microfilmes            1494\n",
      "Fitas Cassete           689\n",
      "Vídeo Comercial         331\n",
      "Microfichas             319\n",
      "Hemeroteca              282\n",
      "Fotografias             209\n",
      "Vídeo Institucional     161\n",
      "Papel                   128\n",
      "Fitas de Rolo           113\n",
      "Negativo Fotográfico     68\n",
      "Filme 16mm               43\n",
      "Projeto Memória          39\n",
      "Diafilmes                19\n",
      "Papel Fotográfico        16\n",
      "CD-Rom                    6\n",
      "slides                    1\n",
      "diapositivo               1\n",
      ".                         1\n",
      "Negativo em Vidro         1\n",
      "Fotografia em Vidro       1\n",
      "Disquete                  1\n",
      "tese                      1\n"
     ]
    }
   ],
   "source": [
    "quantidades_por_suportedf2 = df2.groupby('suporte')['suporte'].agg([np.size])\n",
    "quantidades_por_suportedf2.sort_values(['size'],ascending=False,inplace=True)\n",
    "print(\"Quantidade de itens por suporte df2 \",quantidades_por_suportedf2)"
   ]
  },
  {
   "cell_type": "markdown",
   "metadata": {},
   "source": [
    "## Observações\n",
    "\n",
    "- Criar o tipo de conteúdo no site caph.fflch.usp.br com os campos pertinentes\n",
    "- não importar ainda, pois vamos reversar o nids para cada típo\n",
    "- Atenção: Lembrar de checar duplicados pelo TOMBO nos dois arquivos csv\n",
    "- Jpa foi feito: Tese                   7500 - Já foi feito\n",
    "\n",
    "## Ricardo Fernando dos Santos\n",
    "\n",
    "- nids: 17500-42800\n",
    "- Diapositivo (Slides)  24325 + Diapositivo (Slides)   594\n",
    "- Fotografias             209 + Fotografias            211\n",
    "- Papel Fotográfico        16 + Papel Fotográfico       16\n",
    "\n",
    "## Atenágoras Souza Silva\n",
    "\n",
    "- nids: 42800-45500\n",
    "- Diafilmes                19 + Diafilmes               19\n",
    "- Microfilmes            1494 + Microfilmes           1494\n",
    "- Fitas Cassete           689 + Fitas Cassete          752\n",
    "\n",
    "##  Marcos Vinícius Andrade de Moura\n",
    "\n",
    "- nids: 45500-46000\n",
    "- Microfichas             319 + Microfichas            319\n",
    "- Hemeroteca              282 + Hemeroteca             281\n",
    "\n",
    "## Juliana Saotome\n",
    "\n",
    "- nids: 46000-46600\n",
    "- Vídeo Comercial         331 + Vídeo Comercial        482\n",
    "- Vídeo Institucional     161 + Vídeo Institucional    226\n",
    "- Vídeo Terceiros         13\n",
    "- Vídeo Instiutcional      6\n",
    "\n",
    "## Letícia Paulo Almeida\n",
    "\n",
    "- nids: 46600-47000\n",
    "- Papel                   128 + Papel                  138\n",
    "- Fitas de Rolo           113 + Fitas de Rolo          113\n",
    "- Negativo Fotográfico     68 + Negativo Fotográfico    75\n",
    "- Filme 16mm               43 + Filme 16mm              43\n",
    "\n",
    "## Rodrigo Aroni Siquette\n",
    "\n",
    "- nids: 47000-47100\n",
    "- CD-Rom                  56 + CD-Rom                    6\n",
    "- Projeto Memória         41 + Projeto Memória          39\n",
    "\n",
    "## Roger Luiz Bolsi\n",
    "\n",
    "Copiar conjuntos documentais\n",
    "http://d7caph.fflch.usp.br/conjunto-documental\n",
    "\n",
    "\n",
    "\n",
    "\n"
   ]
  },
  {
   "cell_type": "code",
   "execution_count": null,
   "metadata": {},
   "outputs": [],
   "source": []
  }
 ],
 "metadata": {
  "kernelspec": {
   "display_name": "Python 3",
   "language": "python",
   "name": "python3"
  },
  "language_info": {
   "codemirror_mode": {
    "name": "ipython",
    "version": 3
   },
   "file_extension": ".py",
   "mimetype": "text/x-python",
   "name": "python",
   "nbconvert_exporter": "python",
   "pygments_lexer": "ipython3",
   "version": "3.7.3"
  }
 },
 "nbformat": 4,
 "nbformat_minor": 2
}
